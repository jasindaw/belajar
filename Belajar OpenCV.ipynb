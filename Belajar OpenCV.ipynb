{
 "cells": [
  {
   "cell_type": "markdown",
   "id": "c30be4c6",
   "metadata": {},
   "source": [
    "# Software and Packages"
   ]
  },
  {
   "cell_type": "code",
   "execution_count": 2,
   "id": "d9ad7ada",
   "metadata": {},
   "outputs": [],
   "source": [
    "import numpy as np\n",
    "import cv2\n",
    "from matplotlib import pyplot as plt\n",
    "from copy import deepcopy"
   ]
  },
  {
   "cell_type": "markdown",
   "id": "2d7fca24",
   "metadata": {},
   "source": [
    "# Basic operation on images"
   ]
  },
  {
   "cell_type": "code",
   "execution_count": 3,
   "id": "342013bc",
   "metadata": {},
   "outputs": [],
   "source": [
    "#2.1 Importing, drawing and displaying"
   ]
  },
  {
   "cell_type": "code",
   "execution_count": 4,
   "id": "7cae71de",
   "metadata": {},
   "outputs": [],
   "source": [
    "img=cv2.imread('WIN_20231229_14_59_00_Pro.jpg',0)"
   ]
  },
  {
   "cell_type": "code",
   "execution_count": 5,
   "id": "43dd3c36",
   "metadata": {},
   "outputs": [
    {
     "data": {
      "text/plain": [
       "array([[135, 135, 135, ..., 144, 144, 144],\n",
       "       [136, 135, 135, ..., 144, 144, 144],\n",
       "       [136, 136, 136, ..., 144, 144, 144],\n",
       "       ...,\n",
       "       [ 30,  30,  30, ...,   8,   8,   8],\n",
       "       [ 29,  29,  29, ...,   8,   8,   8],\n",
       "       [ 29,  29,  29, ...,   8,   8,   8]], dtype=uint8)"
      ]
     },
     "execution_count": 5,
     "metadata": {},
     "output_type": "execute_result"
    }
   ],
   "source": [
    "img"
   ]
  },
  {
   "cell_type": "code",
   "execution_count": 6,
   "id": "8782232b",
   "metadata": {},
   "outputs": [
    {
     "data": {
      "text/plain": [
       "135"
      ]
     },
     "execution_count": 6,
     "metadata": {},
     "output_type": "execute_result"
    }
   ],
   "source": [
    "#img[0,1,2]\n",
    "#0 mendeskripsikan baris ke berapa gambar [] pertama kedua kek ketiga, terserah, note: [] pada output\n",
    "#1 mendeskripsikan baris pada gambar tersebut ([]) yang sudah terpilih\n",
    "#2 mendeskripsikan kolom pada gambar tersebut ([]) yang sudah terpilih\n",
    "#sebenernya bisa juga cuma [0,0] gitu misalnya, tapi grgr programku []ininya 3 ([0,0,0]), makanya ya 3\n",
    "img[0,1]"
   ]
  },
  {
   "cell_type": "code",
   "execution_count": 7,
   "id": "e00bfb26",
   "metadata": {},
   "outputs": [],
   "source": [
    "def wind(image):\n",
    "    cv2.namedWindow('image', cv2.WINDOW_NORMAL)\n",
    "    cv2.imshow('image',image)\n",
    "    cv2.waitKey(0)\n",
    "    cv2.destroyAllWindows()"
   ]
  },
  {
   "cell_type": "code",
   "execution_count": 8,
   "id": "b354047a",
   "metadata": {},
   "outputs": [],
   "source": [
    "wind(img)"
   ]
  },
  {
   "cell_type": "code",
   "execution_count": 9,
   "id": "afcee5b4",
   "metadata": {},
   "outputs": [],
   "source": [
    "##sama saja (awal function wind) cuman ga di-function-kan\n",
    "\n",
    "cv2.namedWindow('image', cv2.WINDOW_NORMAL)\n",
    "cv2.imshow('image',img)\n",
    "cv2.waitKey()\n",
    "cv2.destroyAllWindows()"
   ]
  },
  {
   "cell_type": "markdown",
   "id": "889e7969",
   "metadata": {},
   "source": [
    "##### ANJAY BISA DI-RUN DI VSCODE COOOOOYYYYY"
   ]
  },
  {
   "cell_type": "code",
   "execution_count": 10,
   "id": "1fc6d530",
   "metadata": {},
   "outputs": [],
   "source": [
    "imgrgb1=cv2.imread('WIN_20231229_14_59_08_Pro.jpg',1)\n",
    "imgrgb=deepcopy(imgrgb1)\n",
    "wind(imgrgb)\n",
    "circle=cv2.circle(imgrgb1,(1200,400),100,(0,0,255),10)\n",
    "wind(circle)"
   ]
  },
  {
   "cell_type": "markdown",
   "id": "98bd58bf",
   "metadata": {},
   "source": [
    "###### note; opencv use BGR instead of RGB, jadi urutannya (B, G, R).\n",
    "misal: (255,0,0)=biru, (0,255,0)=hijau, (0,0,255)=merah. \n",
    "###### di line cv2.rectangle(baca image, koordinat yang mau digambar, radius rectanglenya, urutan warna BGR, thickness)"
   ]
  },
  {
   "cell_type": "code",
   "execution_count": 11,
   "id": "d46d39a5",
   "metadata": {},
   "outputs": [],
   "source": [
    "imgN1=cv2.imread(\"WIN_20231229_14_59_05_Pro.jpg\",1)\n",
    "#wind(imgN)"
   ]
  },
  {
   "cell_type": "code",
   "execution_count": 12,
   "id": "21b8b9eb",
   "metadata": {},
   "outputs": [],
   "source": [
    "## Nyoba adding some circle on a picture until you press Esc key\n",
    "\n",
    "imgN=deepcopy(imgN1)\n",
    "def click2circle(any,x,y,flags,parameter):\n",
    "    if any==cv2.EVENT_LBUTTONDBLCLK:\n",
    "        cv2.circle(imgN,(x,y),50,(255,255,255),10)\n",
    "\n",
    "cv2.namedWindow(\"nyoba saja\", cv2.WINDOW_NORMAL)\n",
    "cv2.setMouseCallback(\"nyoba saja\", click2circle)\n",
    "\n",
    "while True:\n",
    "    cv2.imshow(\"nyoba saja\", imgN)\n",
    "    a=cv2.waitKey(1)\n",
    "    #print('gambar baru muncul')\n",
    "    if a==27: #27 corresponds for escape key (esc) and anycode in the keyboard has a unique keycode for the waitKey function\n",
    "        break\n",
    "cv2.destroyAllWindows()"
   ]
  },
  {
   "cell_type": "code",
   "execution_count": 13,
   "id": "19d1fdea",
   "metadata": {},
   "outputs": [],
   "source": [
    "#2.2 Splitting channels, map algebra\n",
    "#(membagi channel, gtw nnti deh otw soon)\n",
    "#update, ini tuh misahin komponen-komponen citra dan bisa digabungin sekalian, trus bisa ngelihat citra dari koordinat ke-n ini tuh komponen citranya (BGR)-nya itu tuh berapa saja"
   ]
  },
  {
   "cell_type": "code",
   "execution_count": 14,
   "id": "f9383213",
   "metadata": {},
   "outputs": [
    {
     "data": {
      "text/plain": [
       "array([[[132, 129, 145],\n",
       "        [132, 129, 145],\n",
       "        [132, 129, 145],\n",
       "        ...,\n",
       "        [142, 140, 146],\n",
       "        [142, 140, 146],\n",
       "        [142, 140, 146]],\n",
       "\n",
       "       [[132, 129, 145],\n",
       "        [132, 129, 145],\n",
       "        [132, 129, 145],\n",
       "        ...,\n",
       "        [142, 140, 146],\n",
       "        [142, 140, 146],\n",
       "        [142, 140, 146]],\n",
       "\n",
       "       [[132, 129, 145],\n",
       "        [133, 130, 146],\n",
       "        [133, 130, 146],\n",
       "        ...,\n",
       "        [142, 140, 146],\n",
       "        [142, 140, 146],\n",
       "        [142, 140, 146]],\n",
       "\n",
       "       ...,\n",
       "\n",
       "       [[ 41,  35,  36],\n",
       "        [ 41,  35,  36],\n",
       "        [ 41,  35,  36],\n",
       "        ...,\n",
       "        [  7,   7,   7],\n",
       "        [  6,   6,   6],\n",
       "        [  6,   6,   6]],\n",
       "\n",
       "       [[ 41,  35,  36],\n",
       "        [ 41,  35,  36],\n",
       "        [ 41,  35,  36],\n",
       "        ...,\n",
       "        [  8,   8,   8],\n",
       "        [  7,   7,   7],\n",
       "        [  7,   7,   7]],\n",
       "\n",
       "       [[ 40,  34,  35],\n",
       "        [ 40,  34,  35],\n",
       "        [ 40,  34,  35],\n",
       "        ...,\n",
       "        [  9,   9,   9],\n",
       "        [  8,   8,   8],\n",
       "        [  8,   8,   8]]], dtype=uint8)"
      ]
     },
     "execution_count": 14,
     "metadata": {},
     "output_type": "execute_result"
    }
   ],
   "source": [
    "wind(imgrgb)\n",
    "b,g,r=cv2.split(imgrgb)\n",
    "imgrgb\n"
   ]
  },
  {
   "cell_type": "code",
   "execution_count": 15,
   "id": "aa5c0b29",
   "metadata": {},
   "outputs": [],
   "source": [
    "wind(b)\n",
    "wind(r)\n",
    "wind(g)\n",
    "wind(b-r)\n",
    "wind(b-g)\n",
    "wind(g-r)\n",
    "wind(g-b)\n",
    "wind(r-b)\n",
    "wind(r-g)"
   ]
  },
  {
   "cell_type": "code",
   "execution_count": 16,
   "id": "bbf16311",
   "metadata": {},
   "outputs": [],
   "source": [
    "imgrgb2=cv2.merge((b,g,r))\n",
    "wind(imgrgb2)"
   ]
  },
  {
   "cell_type": "code",
   "execution_count": 17,
   "id": "f3e3f9af",
   "metadata": {},
   "outputs": [],
   "source": [
    "#2.3 Resizing, cropping, and exporting"
   ]
  },
  {
   "cell_type": "code",
   "execution_count": 18,
   "id": "af27a9cd",
   "metadata": {},
   "outputs": [
    {
     "data": {
      "text/plain": [
       "True"
      ]
     },
     "execution_count": 18,
     "metadata": {},
     "output_type": "execute_result"
    }
   ],
   "source": [
    "imgres=cv2.resize(imgrgb,dsize=None,fx=0.2,fy=0.2,interpolation=cv2.INTER_CUBIC)\n",
    "cv2.imshow(\"resize\",imgres)\n",
    "cv2.waitKey()\n",
    "cv2.destroyAllWindows()\n",
    "\n",
    "cropped=imgres[120:300,300:500]\n",
    "wind(cropped)\n",
    "\n",
    "cv2.imwrite('cropped.png',cropped)"
   ]
  },
  {
   "cell_type": "markdown",
   "id": "ab766cbe",
   "metadata": {},
   "source": [
    "## Geometric Operations on Images"
   ]
  },
  {
   "cell_type": "code",
   "execution_count": 19,
   "id": "0e8ab344",
   "metadata": {},
   "outputs": [],
   "source": [
    "#3.1 Image gradients"
   ]
  },
  {
   "cell_type": "code",
   "execution_count": 31,
   "id": "714b63dd",
   "metadata": {},
   "outputs": [],
   "source": [
    "crops=cv2.imread(\"cropped.png\",0)\n",
    "wind(crops)\n",
    "\n",
    "#Gradien Sobel\n",
    "sobelx=cv2.Sobel(crops,cv2.CV_8U,1,0,ksize=3)\n",
    "wind(sobelx)\n",
    "\n",
    "#Gradien Laplacian\n",
    "laplacianx=cv2.Laplacian(crops,cv2.CV_8U)\n",
    "wind(laplacianx)"
   ]
  },
  {
   "cell_type": "code",
   "execution_count": null,
   "id": "9d791838",
   "metadata": {},
   "outputs": [],
   "source": [
    "#3.2 Edge and feature detection"
   ]
  },
  {
   "cell_type": "code",
   "execution_count": 32,
   "id": "494d9ebf",
   "metadata": {},
   "outputs": [],
   "source": [
    "#canny edge operation detection\n",
    "edges=cv2.Canny(crops,100,200) #100 minimum dan 200 maksimum threshold value\n",
    "wind(edges)\n",
    "\n",
    "edges2=cv2.Canny(crops,200,300)\n",
    "wind(edges2)"
   ]
  },
  {
   "cell_type": "code",
   "execution_count": null,
   "id": "2e0a2b16",
   "metadata": {},
   "outputs": [],
   "source": [
    "#line detection with hough transform\n"
   ]
  }
 ],
 "metadata": {
  "kernelspec": {
   "display_name": "Python 3 (ipykernel)",
   "language": "python",
   "name": "python3"
  },
  "language_info": {
   "codemirror_mode": {
    "name": "ipython",
    "version": 3
   },
   "file_extension": ".py",
   "mimetype": "text/x-python",
   "name": "python",
   "nbconvert_exporter": "python",
   "pygments_lexer": "ipython3",
   "version": "3.12.1"
  }
 },
 "nbformat": 4,
 "nbformat_minor": 5
}
